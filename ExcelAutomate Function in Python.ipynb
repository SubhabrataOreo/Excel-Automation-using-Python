{
 "cells": [
  {
   "cell_type": "code",
   "execution_count": 1,
   "id": "5d144402",
   "metadata": {},
   "outputs": [],
   "source": [
    "#importing all the relevant libraries\n",
    "import numpy as np\n",
    "import pandas as pd\n",
    "import os\n",
    "import glob\n",
    "from openpyxl import load_workbook\n",
    "from openpyxl.chart import BarChart, Reference\n",
    "\n",
    "#getting the path of the working directory\n",
    "path = os.getcwd()\n",
    "\n",
    "#creating a list of all the excel files of the present directory\n",
    "files = glob.glob(os.path.join(path, \"*.xlsx\"))\n",
    "\n",
    "#creating the function to read the excel files, create pivot tables, excel charts and saving those as new excel sheets\n",
    "def ExcelAutomate(files):\n",
    "    count=1   #setting a temporary variable (useful for naming the new excel files)\n",
    "    \n",
    "    # loop over the list of excel files\n",
    "    for f in files:\n",
    "        # read the excel file\n",
    "        df = pd.read_excel(f)\n",
    "        #create the pivot table as per instruction\n",
    "        pivot = df.pivot_table(index =['Product line'], columns=['Gender'],\n",
    "                           values =['Total'], aggfunc ='sum')\n",
    "        #getting the path of working directory without the file name\n",
    "        path='\\\\'.join(f.split('\\\\')[0:-1])\n",
    "        #saving the pivot table as a new excel file\n",
    "        pivot.to_excel(f\"{path}/f{count}.xlsx\")\n",
    "        #loading the new excel workbook\n",
    "        wb= load_workbook(f\"{path}/f{count}.xlsx\")\n",
    "        #gettin access to the active sheet of the workbook\n",
    "        sh= wb.active\n",
    "        #creating an object of BarChart module imported previously\n",
    "        chart= BarChart()\n",
    "        #creating the excel chart\n",
    "        labels=Reference(sh, min_col=1, min_row=4, max_row=13)\n",
    "        values=Reference(sh, min_col=1, min_row=2, max_row=13, max_col=3)\n",
    "        chart.add_data(values,titles_from_data=True)\n",
    "        chart.title= \"Bar Chart\"\n",
    "        chart.set_categories(labels)\n",
    "        chart.x_axis.title=\"Product Line\"\n",
    "        chart.y_axis.title=\"Total money spent\"\n",
    "        sh.add_chart(chart, \"E12\")\n",
    "        #saving the pivot table along with the excel chart with the same name of the new workbook\n",
    "        wb.save(f\"{path}/f{count}.xlsx\")\n",
    "        #increasing the value of the temporary variable\n",
    "        count+=1\n",
    "    \n",
    "#Calling the function\n",
    "ExcelAutomate(files)"
   ]
  }
 ],
 "metadata": {
  "kernelspec": {
   "display_name": "Python 3",
   "language": "python",
   "name": "python3"
  },
  "language_info": {
   "codemirror_mode": {
    "name": "ipython",
    "version": 3
   },
   "file_extension": ".py",
   "mimetype": "text/x-python",
   "name": "python",
   "nbconvert_exporter": "python",
   "pygments_lexer": "ipython3",
   "version": "3.8.8"
  }
 },
 "nbformat": 4,
 "nbformat_minor": 5
}
